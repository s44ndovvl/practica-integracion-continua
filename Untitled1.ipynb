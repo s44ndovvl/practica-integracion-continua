{
  "nbformat": 4,
  "nbformat_minor": 0,
  "metadata": {
    "colab": {
      "provenance": [],
      "authorship_tag": "ABX9TyObhyIwBwXjfd882EzJmg9n",
      "include_colab_link": true
    },
    "kernelspec": {
      "name": "python3",
      "display_name": "Python 3"
    },
    "language_info": {
      "name": "python"
    }
  },
  "cells": [
    {
      "cell_type": "markdown",
      "metadata": {
        "id": "view-in-github",
        "colab_type": "text"
      },
      "source": [
        "<a href=\"https://colab.research.google.com/github/s44ndovvl/practica-integracion-continua/blob/main/Untitled1.ipynb\" target=\"_parent\"><img src=\"https://colab.research.google.com/assets/colab-badge.svg\" alt=\"Open In Colab\"/></a>"
      ]
    },
    {
      "cell_type": "code",
      "execution_count": 4,
      "metadata": {
        "id": "9P2PeZ7LesOJ",
        "colab": {
          "base_uri": "https://localhost:8080/"
        },
        "outputId": "eb908f1d-3512-4789-f391-1f72a9765bc3"
      },
      "outputs": [
        {
          "output_type": "stream",
          "name": "stdout",
          "text": [
            "hola edu\n"
          ]
        }
      ],
      "source": [
        "print(\"hola \", end = '')\n",
        "print(\"edu\")"
      ]
    },
    {
      "cell_type": "code",
      "source": [
        "print(\"sexo\", \"necesito\", \"en\", \"serio\", sep = ' ')"
      ],
      "metadata": {
        "colab": {
          "base_uri": "https://localhost:8080/"
        },
        "id": "lQQv69Izl2DH",
        "outputId": "0ed85696-c0a9-48a6-b6c3-4cdd45b0c4c2"
      },
      "execution_count": 5,
      "outputs": [
        {
          "output_type": "stream",
          "name": "stdout",
          "text": [
            "sexo necesito en serio\n"
          ]
        }
      ]
    },
    {
      "cell_type": "code",
      "source": [
        "pene = int(input(\"¿cuanto mide?\"))"
      ],
      "metadata": {
        "colab": {
          "base_uri": "https://localhost:8080/"
        },
        "id": "PXBzDoUNmSK8",
        "outputId": "29092a68-0428-480c-9930-72d325ebb96f"
      },
      "execution_count": 6,
      "outputs": [
        {
          "name": "stdout",
          "output_type": "stream",
          "text": [
            "¿cuanto mide?2\n"
          ]
        }
      ]
    },
    {
      "cell_type": "code",
      "source": [
        "a = 1\n",
        "b = 2\n",
        "c = 1\n",
        "print(a is b)\n",
        "print(a is c)"
      ],
      "metadata": {
        "colab": {
          "base_uri": "https://localhost:8080/"
        },
        "id": "mPr8ixZp3yly",
        "outputId": "1b365df3-a5ba-480d-d602-09bd144f0235"
      },
      "execution_count": 2,
      "outputs": [
        {
          "output_type": "stream",
          "name": "stdout",
          "text": [
            "False\n",
            "True\n"
          ]
        }
      ]
    },
    {
      "cell_type": "code",
      "source": [
        "tenemos = \"sexo\";\n",
        "print(\"eo\" in tenemos)\n",
        "print(\"ex\" in tenemos) # tienen las cadenas que estan dentro de otras tener el mismo orden, seguramente se revisa toda la cadena una pura ve complejidad o(n), cantidad de caracteres ;)"
      ],
      "metadata": {
        "colab": {
          "base_uri": "https://localhost:8080/"
        },
        "id": "q1dWojWr38-x",
        "outputId": "08112fee-62ae-4200-ac48-b2fe14e15613"
      },
      "execution_count": 6,
      "outputs": [
        {
          "output_type": "stream",
          "name": "stdout",
          "text": [
            "False\n",
            "True\n"
          ]
        }
      ]
    },
    {
      "cell_type": "code",
      "source": [
        "n = 11\n",
        "for i in range(1, n, 2): print(i)"
      ],
      "metadata": {
        "id": "-PX3Gj4rTgEW",
        "outputId": "3b5bb578-f651-4a9b-f919-89aa539fa11d",
        "colab": {
          "base_uri": "https://localhost:8080/"
        }
      },
      "execution_count": 10,
      "outputs": [
        {
          "output_type": "stream",
          "name": "stdout",
          "text": [
            "1\n",
            "3\n",
            "5\n",
            "7\n",
            "9\n"
          ]
        }
      ]
    },
    {
      "cell_type": "code",
      "source": [
        "for letra in \"Python\": print(letra, end = \"-\")"
      ],
      "metadata": {
        "id": "SmHijdMwUvXY",
        "outputId": "0f9c9614-9507-4f76-bc6f-44729f1e6f82",
        "colab": {
          "base_uri": "https://localhost:8080/"
        }
      },
      "execution_count": 9,
      "outputs": [
        {
          "output_type": "stream",
          "name": "stdout",
          "text": [
            "P-y-t-h-o-n-"
          ]
        }
      ]
    },
    {
      "cell_type": "code",
      "source": [
        "str = ''\n",
        "while str != \"hola\": str = input()\n",
        "else: print(\"HOLA!!\") #CUANDO TERMINA WHILE, SE PUEDE EJECUTAR UN ELSE, TOMANDO EL WHILE COMO UN IF INFINITO"
      ],
      "metadata": {
        "id": "f9gGx7-Pk8tw",
        "outputId": "eed65f83-943d-435c-f9c5-44ababc94d61",
        "colab": {
          "base_uri": "https://localhost:8080/"
        }
      },
      "execution_count": 2,
      "outputs": [
        {
          "output_type": "stream",
          "name": "stdout",
          "text": [
            "ho\n",
            "h\n",
            "hola\n",
            "HOLA!!\n"
          ]
        }
      ]
    },
    {
      "cell_type": "code",
      "source": [
        "peras = ['pera', '']\n",
        "frutas = ['platano','manzana','naranja','kiwi']\n",
        "\n",
        "frutas.pop(0)\n",
        "print(frutas)\n",
        "\n",
        "#esto ocurre por la comparacion consecutiva de ASCII\n",
        "print(frutas > peras)\n",
        "\n",
        "o = ['e', 'ioouuuuuuuuuuuuuuuuuuuuu']\n",
        "u = ['e', 'iu'] #si las cadenas son iguales hasta que una termine, pero la otra sigue, la que sigue es la mas grande. Si una letra llega a ser mas grande,\n",
        "#al evaluarse secuancialmente, termina siendo mas grande la cadena con el mayor valor en ese punto hasta el que se evaluo\n",
        "a = ['a']\n",
        "\n",
        "print(o < u)\n",
        "print(o < a)"
      ],
      "metadata": {
        "id": "O6SkqV8otttN",
        "outputId": "01c21806-03af-48cd-af2f-846dc88028d6",
        "colab": {
          "base_uri": "https://localhost:8080/"
        }
      },
      "execution_count": 29,
      "outputs": [
        {
          "output_type": "stream",
          "name": "stdout",
          "text": [
            "['manzana', 'naranja', 'kiwi']\n",
            "False\n",
            "True\n",
            "False\n"
          ]
        }
      ]
    },
    {
      "cell_type": "code",
      "source": [
        "dicc = {'deidad':'dios', 'poder': 'omnipotente'}\n",
        "print(dicc.keys()) #no se puede .keys(index)\n",
        "print(dicc.values())\n",
        "print(dicc.items())\n",
        "print(dicc.get(4))\n",
        "print(dicc.get('deidad'))\n",
        "print(dicc.get('dios'))"
      ],
      "metadata": {
        "id": "1K_BKczI2ZaH",
        "outputId": "e1a5eac8-fc91-43b3-f434-e44294d1ac4c",
        "colab": {
          "base_uri": "https://localhost:8080/"
        }
      },
      "execution_count": 21,
      "outputs": [
        {
          "output_type": "stream",
          "name": "stdout",
          "text": [
            "dict_keys(['deidad', 'poder'])\n",
            "dict_values(['dios', 'omnipotente'])\n",
            "dict_items([('deidad', 'dios'), ('poder', 'omnipotente')])\n",
            "None\n",
            "dios\n",
            "None\n"
          ]
        }
      ]
    },
    {
      "cell_type": "code",
      "source": [
        "ran = range(6, 8, 2)\n",
        "#print(ran * 4) LANZA ERROR\n",
        "# print(ran + ran)\n",
        "print(ran)\n",
        "lis = [1, 2, 3, 4, 5, 6]\n",
        "lis1 = lis[1:5]\n",
        "lis2 = lis[1:5:1]\n",
        "srt = \"jJJJJJJJJ\"\n",
        "print(lis1)\n",
        "print(lis2)\n",
        "print(srt.count('j')) #count distingue entre mayus y minus\n",
        "#print(ran + lis)"
      ],
      "metadata": {
        "id": "tg5SkTNUMNok",
        "outputId": "e1a5aa6c-1893-4acc-d325-36ffce5fe113",
        "colab": {
          "base_uri": "https://localhost:8080/"
        }
      },
      "execution_count": 39,
      "outputs": [
        {
          "output_type": "stream",
          "name": "stdout",
          "text": [
            "range(6, 8, 2)\n",
            "[2, 3, 4, 5]\n",
            "[2, 3, 4, 5]\n",
            "1\n"
          ]
        }
      ]
    },
    {
      "cell_type": "code",
      "source": [
        "def f(r, t, y):\n",
        "  return r, t, y\n",
        "\n",
        "ro = list(f(3, 4, 5))\n",
        "\n",
        "print(ro)"
      ],
      "metadata": {
        "id": "LjQNOfIOPSUQ",
        "outputId": "440c54a9-7950-46c0-d979-75a4990493fa",
        "colab": {
          "base_uri": "https://localhost:8080/"
        }
      },
      "execution_count": 46,
      "outputs": [
        {
          "output_type": "stream",
          "name": "stdout",
          "text": [
            "[3, 4, 5]\n"
          ]
        }
      ]
    }
  ]
}