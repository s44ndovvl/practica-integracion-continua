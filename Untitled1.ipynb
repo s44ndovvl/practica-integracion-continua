{
  "nbformat": 4,
  "nbformat_minor": 0,
  "metadata": {
    "colab": {
      "provenance": [],
      "authorship_tag": "ABX9TyO1CwpwfZPHEDjluwAMWlA0",
      "include_colab_link": true
    },
    "kernelspec": {
      "name": "python3",
      "display_name": "Python 3"
    },
    "language_info": {
      "name": "python"
    }
  },
  "cells": [
    {
      "cell_type": "markdown",
      "metadata": {
        "id": "view-in-github",
        "colab_type": "text"
      },
      "source": [
        "<a href=\"https://colab.research.google.com/github/s44ndovvl/practica-integracion-continua/blob/main/Untitled1.ipynb\" target=\"_parent\"><img src=\"https://colab.research.google.com/assets/colab-badge.svg\" alt=\"Open In Colab\"/></a>"
      ]
    },
    {
      "cell_type": "code",
      "execution_count": 4,
      "metadata": {
        "id": "9P2PeZ7LesOJ",
        "colab": {
          "base_uri": "https://localhost:8080/"
        },
        "outputId": "eb908f1d-3512-4789-f391-1f72a9765bc3"
      },
      "outputs": [
        {
          "output_type": "stream",
          "name": "stdout",
          "text": [
            "hola edu\n"
          ]
        }
      ],
      "source": [
        "print(\"hola \", end = '')\n",
        "print(\"edu\")"
      ]
    },
    {
      "cell_type": "code",
      "source": [
        "print(\"sexo\", \"necesito\", \"en\", \"serio\", sep = ' ')"
      ],
      "metadata": {
        "colab": {
          "base_uri": "https://localhost:8080/"
        },
        "id": "lQQv69Izl2DH",
        "outputId": "0ed85696-c0a9-48a6-b6c3-4cdd45b0c4c2"
      },
      "execution_count": 5,
      "outputs": [
        {
          "output_type": "stream",
          "name": "stdout",
          "text": [
            "sexo necesito en serio\n"
          ]
        }
      ]
    },
    {
      "cell_type": "code",
      "source": [
        "pene = int(input(\"¿cuanto mide?\"))"
      ],
      "metadata": {
        "colab": {
          "base_uri": "https://localhost:8080/"
        },
        "id": "PXBzDoUNmSK8",
        "outputId": "29092a68-0428-480c-9930-72d325ebb96f"
      },
      "execution_count": 6,
      "outputs": [
        {
          "name": "stdout",
          "output_type": "stream",
          "text": [
            "¿cuanto mide?2\n"
          ]
        }
      ]
    },
    {
      "cell_type": "code",
      "source": [
        "a = 1\n",
        "b = 2\n",
        "c = 1\n",
        "print(a is b)\n",
        "print(a is c)"
      ],
      "metadata": {
        "colab": {
          "base_uri": "https://localhost:8080/"
        },
        "id": "mPr8ixZp3yly",
        "outputId": "1b365df3-a5ba-480d-d602-09bd144f0235"
      },
      "execution_count": 2,
      "outputs": [
        {
          "output_type": "stream",
          "name": "stdout",
          "text": [
            "False\n",
            "True\n"
          ]
        }
      ]
    },
    {
      "cell_type": "code",
      "source": [
        "tenemos = \"sexo\";\n",
        "print(\"eo\" in tenemos)\n",
        "print(\"ex\" in tenemos) # tienen las cadenas que estan dentro de otras tener el mismo orden, seguramente se revisa toda la cadena una pura ve complejidad o(n), cantidad de caracteres ;)"
      ],
      "metadata": {
        "colab": {
          "base_uri": "https://localhost:8080/"
        },
        "id": "q1dWojWr38-x",
        "outputId": "08112fee-62ae-4200-ac48-b2fe14e15613"
      },
      "execution_count": 6,
      "outputs": [
        {
          "output_type": "stream",
          "name": "stdout",
          "text": [
            "False\n",
            "True\n"
          ]
        }
      ]
    }
  ]
}